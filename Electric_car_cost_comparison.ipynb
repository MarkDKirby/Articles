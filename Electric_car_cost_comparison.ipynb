{
 "cells": [
  {
   "cell_type": "code",
   "execution_count": 1,
   "id": "20480531",
   "metadata": {},
   "outputs": [],
   "source": [
    "import pandas as pd\n",
    "import numpy as np\n",
    "import matplotlib.pyplot as plt\n",
    "\n",
    "#parameters\n",
    "gas_vehicle_price=30000\n",
    "hybrid_vehicle_price=35000\n",
    "electric_vehicle_price=60000\n",
    "inflation=1.02\n",
    "gas_price = 3.45\n",
    "electricity_price = 0.17\n",
    "years = 20\n",
    "y = list(range(0,years))\n",
    "maintenance_gas_hybrid = 0.09\n",
    "maintenance_electric = maintenance_gas_hybrid/2\n",
    "insurance_gas = 1000\n",
    "insurance_hybrid = 1100\n",
    "insurance_electric =1230\n",
    "miles = 15000\n",
    "gas_mpg = 30\n",
    "hybrid_mpg = 40\n",
    "electric_range = 200\n",
    "kilowatthour_battery_usage = 60\n",
    "gas_hybrid_random_costs = 1500\n",
    "electric_random_costs = 1000"
   ]
  },
  {
   "cell_type": "code",
   "execution_count": 2,
   "id": "9e7eff28",
   "metadata": {},
   "outputs": [],
   "source": [
    "\n",
    "class cost_analysis:\n",
    "    def __init__(gas,hybrid,electric,gas_list,hybrid_list,electric_list):\n",
    "        self.gas = gas\n",
    "        self.hybrid = hybrid\n",
    "        self.electric = electric\n",
    "        self.gas_list = gas_list\n",
    "        self.hybrid_list = hybrid_list\n",
    "        self.electric_list = electric_list\n",
    "\n",
    "    def purchase(self):\n",
    "        #here I purchase either a Toyota RAV4 for gas vehicle, a Toyota RAV4 hybrid for the hybrid,\n",
    "        #or a Ford Mustang Mach-E for the electric vehcile\n",
    "        self.gas = gas_vehicle_price\n",
    "        self.hybrid = hybrid_vehicle_price\n",
    "        self.electric = electric_vehicle_price\n",
    "        self.gas_list = []\n",
    "        self.hybrid_list = []\n",
    "        self.electric_list = []\n",
    "    \n",
    "    def keep(self, years):\n",
    "        gas_cost = gas_price\n",
    "        electricity_cost = electricity_price\n",
    "        for year in range(0,years):\n",
    "            gas_cost = gas_cost * inflation\n",
    "            electricity_cost = electricity_cost * inflation\n",
    "            gas_cost = np.round(gas_cost + np.random.normal(), decimals = 2)\n",
    "            electricity_cost = np.round(electricity_cost, decimals = 4)\n",
    "            r = np.random.normal()\n",
    "            if r > - 1:\n",
    "                self.gas = self.gas + (gas_cost * (miles/gas_mpg)) + (maintenance_gas_hybrid * miles)\n",
    "                self.hybrid = self.hybrid + (gas_cost * (miles/hybrid_mpg)) + (maintenance_gas_hybrid * miles)\n",
    "                self.electric = self.electric + (electricity_cost*kilowatthour_battery_usage)*(miles/electric_range)\n",
    "                self.electric = self.electric + (maintenance_electric * miles)\n",
    "            else: \n",
    "                self.gas = self.gas + (gas_cost * (miles/gas_mpg)) + gas_hybrid_random_costs\n",
    "                self.gas = self.gas + (maintenance_gas_hybrid * miles)\n",
    "                self.hybrid = self.hybrid + (gas_cost * (miles/hybrid_mpg)) + gas_hybrid_random_costs \n",
    "                self.hybrid = self.hybrid + (maintenance_gas_hybrid * miles)\n",
    "                self.electric = self.electric + (electricity_cost*kilowatthour_battery_usage)*(miles/electric_range) \n",
    "                self.elecrtic = self.electric + electric_random_costs + (maintenance_electric * miles)\n",
    "            #insurance\n",
    "            self.gas = self.gas + insurance_gas\n",
    "            self.hybrid = self.hybrid + insurance_hybrid \n",
    "            self.electric = self.electric + insurance_electric\n",
    "            self.gas_list.append(self.gas)\n",
    "            self.hybrid_list.append(self.hybrid)\n",
    "            self.electric_list.append(self.electric)\n",
    "        return self.gas, self.hybrid, self.electric\n",
    "\n"
   ]
  },
  {
   "cell_type": "code",
   "execution_count": 3,
   "id": "441efa37",
   "metadata": {},
   "outputs": [],
   "source": [
    "cost = cost_analysis\n",
    "cost_analysis.purchase(cost)"
   ]
  },
  {
   "cell_type": "code",
   "execution_count": 4,
   "id": "fb1157eb",
   "metadata": {},
   "outputs": [
    {
     "data": {
      "text/plain": [
       "[]"
      ]
     },
     "execution_count": 4,
     "metadata": {},
     "output_type": "execute_result"
    }
   ],
   "source": [
    "cost.gas_list"
   ]
  },
  {
   "cell_type": "code",
   "execution_count": 5,
   "id": "997a810d",
   "metadata": {},
   "outputs": [],
   "source": [
    "gas_vehicle_total_cost, hybrid_vehicle_total_cost, electric_vehicle_total_cost = cost_analysis.keep(cost,years)"
   ]
  },
  {
   "cell_type": "code",
   "execution_count": 6,
   "id": "f7fc2a57",
   "metadata": {},
   "outputs": [
    {
     "data": {
      "text/plain": [
       "114362.55000000003"
      ]
     },
     "execution_count": 6,
     "metadata": {},
     "output_type": "execute_result"
    }
   ],
   "source": [
    "cost.electric"
   ]
  },
  {
   "cell_type": "code",
   "execution_count": 7,
   "id": "a5ff15f2",
   "metadata": {},
   "outputs": [
    {
     "data": {
      "text/plain": [
       "165618.75"
      ]
     },
     "execution_count": 7,
     "metadata": {},
     "output_type": "execute_result"
    }
   ],
   "source": [
    "cost.hybrid"
   ]
  },
  {
   "cell_type": "code",
   "execution_count": 8,
   "id": "1ecd9621",
   "metadata": {},
   "outputs": [
    {
     "data": {
      "text/plain": [
       "183825.0"
      ]
     },
     "execution_count": 8,
     "metadata": {},
     "output_type": "execute_result"
    }
   ],
   "source": [
    "cost.gas"
   ]
  },
  {
   "cell_type": "code",
   "execution_count": 9,
   "id": "d31c7033",
   "metadata": {},
   "outputs": [
    {
     "name": "stdout",
     "output_type": "stream",
     "text": [
      "20\n",
      "20\n",
      "20\n",
      "20\n"
     ]
    }
   ],
   "source": [
    "print(len(cost.gas_list))\n",
    "print(len(cost.gas_list))\n",
    "print(len(cost.gas_list))\n",
    "print(len(y))"
   ]
  },
  {
   "cell_type": "code",
   "execution_count": 10,
   "id": "370f14c1",
   "metadata": {},
   "outputs": [
    {
     "data": {
      "image/png": "[encoded data removed]",
      "text/plain": [
       "<Figure size 432x288 with 1 Axes>"
      ]
     },
     "metadata": {
      "needs_background": "light"
     },
     "output_type": "display_data"
    }
   ],
   "source": [
    "plt.plot(y,cost.gas_list, label = \"Gas\")\n",
    "plt.plot(y,cost.hybrid_list, label = \"Hybrid\")\n",
    "plt.plot(y,cost.electric_list, label = \"Electric\")\n",
    "plt.title(\"Costs of Cars by Type\")\n",
    "plt.xlabel(\"Years\")\n",
    "plt.ylabel(\"Cost in US Dollars\")\n",
    "plt.legend()\n",
    "plt.show()"
   ]
  },
  {
   "cell_type": "code",
   "execution_count": 11,
   "id": "6ea8aa56",
   "metadata": {},
   "outputs": [
    {
     "name": "stdout",
     "output_type": "stream",
     "text": [
      "Gas cost per mile: 0.61275\n",
      "Hybrid cost per mile: 0.5520625\n",
      "Electric cost per mile: 0.3812085000000001\n"
     ]
    }
   ],
   "source": [
    "gas_cost_per_mile = cost.gas/(years * miles)\n",
    "hybrid_cost_per_mile = cost.hybrid/(years * miles)\n",
    "electric_cost_per_mile = cost.electric/(years * miles)\n",
    "print('Gas cost per mile:', gas_cost_per_mile)\n",
    "print('Hybrid cost per mile:', hybrid_cost_per_mile)\n",
    "print('Electric cost per mile:', electric_cost_per_mile)"
   ]
  },
  {
   "cell_type": "code",
   "execution_count": null,
   "id": "038905ea",
   "metadata": {},
   "outputs": [],
   "source": []
  },
  {
   "cell_type": "code",
   "execution_count": null,
   "id": "6a2779d0",
   "metadata": {},
   "outputs": [],
   "source": []
  }
 ],
 "metadata": {
  "kernelspec": {
   "display_name": "Python 3",
   "language": "python",
   "name": "python3"
  },
  "language_info": {
   "codemirror_mode": {
    "name": "ipython",
    "version": 3
   },
   "file_extension": ".py",
   "mimetype": "text/x-python",
   "name": "python",
   "nbconvert_exporter": "python",
   "pygments_lexer": "ipython3",
   "version": "3.8.8"
  }
 },
 "nbformat": 4,
 "nbformat_minor": 5
}
